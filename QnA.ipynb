{
  "nbformat": 4,
  "nbformat_minor": 0,
  "metadata": {
    "colab": {
      "name": "QnA.ipynb",
      "provenance": [],
      "machine_shape": "hm",
      "authorship_tag": "ABX9TyP4DdEkyH2JS4ExE/dIDa6G",
      "include_colab_link": true
    },
    "kernelspec": {
      "name": "python3",
      "display_name": "Python 3"
    },
    "language_info": {
      "name": "python"
    },
    "accelerator": "GPU",
    "widgets": {
      "application/vnd.jupyter.widget-state+json": {
        "0ee607d1e15448d59abe697bf409e08c": {
          "model_module": "@jupyter-widgets/controls",
          "model_name": "HBoxModel",
          "model_module_version": "1.5.0",
          "state": {
            "_dom_classes": [],
            "_model_module": "@jupyter-widgets/controls",
            "_model_module_version": "1.5.0",
            "_model_name": "HBoxModel",
            "_view_count": null,
            "_view_module": "@jupyter-widgets/controls",
            "_view_module_version": "1.5.0",
            "_view_name": "HBoxView",
            "box_style": "",
            "children": [
              "IPY_MODEL_51a637915c3d4f04a5a9b53108bcec8d",
              "IPY_MODEL_2888554fa278475a9be3bc255d897638",
              "IPY_MODEL_c92275933621400381a320336ff10c78"
            ],
            "layout": "IPY_MODEL_b005ac66cb864109a5056d93163b5688"
          }
        },
        "51a637915c3d4f04a5a9b53108bcec8d": {
          "model_module": "@jupyter-widgets/controls",
          "model_name": "HTMLModel",
          "model_module_version": "1.5.0",
          "state": {
            "_dom_classes": [],
            "_model_module": "@jupyter-widgets/controls",
            "_model_module_version": "1.5.0",
            "_model_name": "HTMLModel",
            "_view_count": null,
            "_view_module": "@jupyter-widgets/controls",
            "_view_module_version": "1.5.0",
            "_view_name": "HTMLView",
            "description": "",
            "description_tooltip": null,
            "layout": "IPY_MODEL_f144fc81f90f4f5796d587fa2b8d0e78",
            "placeholder": "​",
            "style": "IPY_MODEL_e249af3237fa49de8cb1854b1ed28e3c",
            "value": "100%"
          }
        },
        "2888554fa278475a9be3bc255d897638": {
          "model_module": "@jupyter-widgets/controls",
          "model_name": "FloatProgressModel",
          "model_module_version": "1.5.0",
          "state": {
            "_dom_classes": [],
            "_model_module": "@jupyter-widgets/controls",
            "_model_module_version": "1.5.0",
            "_model_name": "FloatProgressModel",
            "_view_count": null,
            "_view_module": "@jupyter-widgets/controls",
            "_view_module_version": "1.5.0",
            "_view_name": "ProgressView",
            "bar_style": "success",
            "description": "",
            "description_tooltip": null,
            "layout": "IPY_MODEL_458d3db9f6314ca9bcc8abf389c36bcc",
            "max": 3,
            "min": 0,
            "orientation": "horizontal",
            "style": "IPY_MODEL_bb244df009b44776979161d77017be3b",
            "value": 3
          }
        },
        "c92275933621400381a320336ff10c78": {
          "model_module": "@jupyter-widgets/controls",
          "model_name": "HTMLModel",
          "model_module_version": "1.5.0",
          "state": {
            "_dom_classes": [],
            "_model_module": "@jupyter-widgets/controls",
            "_model_module_version": "1.5.0",
            "_model_name": "HTMLModel",
            "_view_count": null,
            "_view_module": "@jupyter-widgets/controls",
            "_view_module_version": "1.5.0",
            "_view_name": "HTMLView",
            "description": "",
            "description_tooltip": null,
            "layout": "IPY_MODEL_de7e891670d148a3b4a200ced1bb0e07",
            "placeholder": "​",
            "style": "IPY_MODEL_198b7588243c4888a39271aee3a2340b",
            "value": " 3/3 [00:00&lt;00:00, 40.41it/s]"
          }
        },
        "b005ac66cb864109a5056d93163b5688": {
          "model_module": "@jupyter-widgets/base",
          "model_name": "LayoutModel",
          "model_module_version": "1.2.0",
          "state": {
            "_model_module": "@jupyter-widgets/base",
            "_model_module_version": "1.2.0",
            "_model_name": "LayoutModel",
            "_view_count": null,
            "_view_module": "@jupyter-widgets/base",
            "_view_module_version": "1.2.0",
            "_view_name": "LayoutView",
            "align_content": null,
            "align_items": null,
            "align_self": null,
            "border": null,
            "bottom": null,
            "display": null,
            "flex": null,
            "flex_flow": null,
            "grid_area": null,
            "grid_auto_columns": null,
            "grid_auto_flow": null,
            "grid_auto_rows": null,
            "grid_column": null,
            "grid_gap": null,
            "grid_row": null,
            "grid_template_areas": null,
            "grid_template_columns": null,
            "grid_template_rows": null,
            "height": null,
            "justify_content": null,
            "justify_items": null,
            "left": null,
            "margin": null,
            "max_height": null,
            "max_width": null,
            "min_height": null,
            "min_width": null,
            "object_fit": null,
            "object_position": null,
            "order": null,
            "overflow": null,
            "overflow_x": null,
            "overflow_y": null,
            "padding": null,
            "right": null,
            "top": null,
            "visibility": null,
            "width": null
          }
        },
        "f144fc81f90f4f5796d587fa2b8d0e78": {
          "model_module": "@jupyter-widgets/base",
          "model_name": "LayoutModel",
          "model_module_version": "1.2.0",
          "state": {
            "_model_module": "@jupyter-widgets/base",
            "_model_module_version": "1.2.0",
            "_model_name": "LayoutModel",
            "_view_count": null,
            "_view_module": "@jupyter-widgets/base",
            "_view_module_version": "1.2.0",
            "_view_name": "LayoutView",
            "align_content": null,
            "align_items": null,
            "align_self": null,
            "border": null,
            "bottom": null,
            "display": null,
            "flex": null,
            "flex_flow": null,
            "grid_area": null,
            "grid_auto_columns": null,
            "grid_auto_flow": null,
            "grid_auto_rows": null,
            "grid_column": null,
            "grid_gap": null,
            "grid_row": null,
            "grid_template_areas": null,
            "grid_template_columns": null,
            "grid_template_rows": null,
            "height": null,
            "justify_content": null,
            "justify_items": null,
            "left": null,
            "margin": null,
            "max_height": null,
            "max_width": null,
            "min_height": null,
            "min_width": null,
            "object_fit": null,
            "object_position": null,
            "order": null,
            "overflow": null,
            "overflow_x": null,
            "overflow_y": null,
            "padding": null,
            "right": null,
            "top": null,
            "visibility": null,
            "width": null
          }
        },
        "e249af3237fa49de8cb1854b1ed28e3c": {
          "model_module": "@jupyter-widgets/controls",
          "model_name": "DescriptionStyleModel",
          "model_module_version": "1.5.0",
          "state": {
            "_model_module": "@jupyter-widgets/controls",
            "_model_module_version": "1.5.0",
            "_model_name": "DescriptionStyleModel",
            "_view_count": null,
            "_view_module": "@jupyter-widgets/base",
            "_view_module_version": "1.2.0",
            "_view_name": "StyleView",
            "description_width": ""
          }
        },
        "458d3db9f6314ca9bcc8abf389c36bcc": {
          "model_module": "@jupyter-widgets/base",
          "model_name": "LayoutModel",
          "model_module_version": "1.2.0",
          "state": {
            "_model_module": "@jupyter-widgets/base",
            "_model_module_version": "1.2.0",
            "_model_name": "LayoutModel",
            "_view_count": null,
            "_view_module": "@jupyter-widgets/base",
            "_view_module_version": "1.2.0",
            "_view_name": "LayoutView",
            "align_content": null,
            "align_items": null,
            "align_self": null,
            "border": null,
            "bottom": null,
            "display": null,
            "flex": null,
            "flex_flow": null,
            "grid_area": null,
            "grid_auto_columns": null,
            "grid_auto_flow": null,
            "grid_auto_rows": null,
            "grid_column": null,
            "grid_gap": null,
            "grid_row": null,
            "grid_template_areas": null,
            "grid_template_columns": null,
            "grid_template_rows": null,
            "height": null,
            "justify_content": null,
            "justify_items": null,
            "left": null,
            "margin": null,
            "max_height": null,
            "max_width": null,
            "min_height": null,
            "min_width": null,
            "object_fit": null,
            "object_position": null,
            "order": null,
            "overflow": null,
            "overflow_x": null,
            "overflow_y": null,
            "padding": null,
            "right": null,
            "top": null,
            "visibility": null,
            "width": null
          }
        },
        "bb244df009b44776979161d77017be3b": {
          "model_module": "@jupyter-widgets/controls",
          "model_name": "ProgressStyleModel",
          "model_module_version": "1.5.0",
          "state": {
            "_model_module": "@jupyter-widgets/controls",
            "_model_module_version": "1.5.0",
            "_model_name": "ProgressStyleModel",
            "_view_count": null,
            "_view_module": "@jupyter-widgets/base",
            "_view_module_version": "1.2.0",
            "_view_name": "StyleView",
            "bar_color": null,
            "description_width": ""
          }
        },
        "de7e891670d148a3b4a200ced1bb0e07": {
          "model_module": "@jupyter-widgets/base",
          "model_name": "LayoutModel",
          "model_module_version": "1.2.0",
          "state": {
            "_model_module": "@jupyter-widgets/base",
            "_model_module_version": "1.2.0",
            "_model_name": "LayoutModel",
            "_view_count": null,
            "_view_module": "@jupyter-widgets/base",
            "_view_module_version": "1.2.0",
            "_view_name": "LayoutView",
            "align_content": null,
            "align_items": null,
            "align_self": null,
            "border": null,
            "bottom": null,
            "display": null,
            "flex": null,
            "flex_flow": null,
            "grid_area": null,
            "grid_auto_columns": null,
            "grid_auto_flow": null,
            "grid_auto_rows": null,
            "grid_column": null,
            "grid_gap": null,
            "grid_row": null,
            "grid_template_areas": null,
            "grid_template_columns": null,
            "grid_template_rows": null,
            "height": null,
            "justify_content": null,
            "justify_items": null,
            "left": null,
            "margin": null,
            "max_height": null,
            "max_width": null,
            "min_height": null,
            "min_width": null,
            "object_fit": null,
            "object_position": null,
            "order": null,
            "overflow": null,
            "overflow_x": null,
            "overflow_y": null,
            "padding": null,
            "right": null,
            "top": null,
            "visibility": null,
            "width": null
          }
        },
        "198b7588243c4888a39271aee3a2340b": {
          "model_module": "@jupyter-widgets/controls",
          "model_name": "DescriptionStyleModel",
          "model_module_version": "1.5.0",
          "state": {
            "_model_module": "@jupyter-widgets/controls",
            "_model_module_version": "1.5.0",
            "_model_name": "DescriptionStyleModel",
            "_view_count": null,
            "_view_module": "@jupyter-widgets/base",
            "_view_module_version": "1.2.0",
            "_view_name": "StyleView",
            "description_width": ""
          }
        }
      }
    }
  },
  "cells": [
    {
      "cell_type": "markdown",
      "metadata": {
        "id": "view-in-github",
        "colab_type": "text"
      },
      "source": [
        "<a href=\"https://colab.research.google.com/github/Himagination/NLP_Transformers/blob/main/QnA.ipynb\" target=\"_parent\"><img src=\"https://colab.research.google.com/assets/colab-badge.svg\" alt=\"Open In Colab\"/></a>"
      ]
    },
    {
      "cell_type": "code",
      "execution_count": 30,
      "metadata": {
        "id": "tAsy9zyPucUA"
      },
      "outputs": [],
      "source": [
        "!pip install --quiet transformers datasets"
      ]
    },
    {
      "cell_type": "code",
      "source": [
        "from datasets import get_dataset_config_names, load_dataset\n",
        "domains = get_dataset_config_names(\"subjqa\")\n",
        "domains"
      ],
      "metadata": {
        "colab": {
          "base_uri": "https://localhost:8080/"
        },
        "id": "bdmHeEwwxrER",
        "outputId": "ff8d8f9c-7ce5-4608-ccc2-2353e9e686d8"
      },
      "execution_count": 31,
      "outputs": [
        {
          "output_type": "execute_result",
          "data": {
            "text/plain": [
              "['books', 'electronics', 'grocery', 'movies', 'restaurants', 'tripadvisor']"
            ]
          },
          "metadata": {},
          "execution_count": 31
        }
      ]
    },
    {
      "cell_type": "code",
      "source": [
        "subjqa = load_dataset(\"subjqa\", name=\"electronics\")"
      ],
      "metadata": {
        "colab": {
          "base_uri": "https://localhost:8080/",
          "height": 86,
          "referenced_widgets": [
            "0ee607d1e15448d59abe697bf409e08c",
            "51a637915c3d4f04a5a9b53108bcec8d",
            "2888554fa278475a9be3bc255d897638",
            "c92275933621400381a320336ff10c78",
            "b005ac66cb864109a5056d93163b5688",
            "f144fc81f90f4f5796d587fa2b8d0e78",
            "e249af3237fa49de8cb1854b1ed28e3c",
            "458d3db9f6314ca9bcc8abf389c36bcc",
            "bb244df009b44776979161d77017be3b",
            "de7e891670d148a3b4a200ced1bb0e07",
            "198b7588243c4888a39271aee3a2340b"
          ]
        },
        "id": "LdS6M1_P5a7D",
        "outputId": "1475a3e2-5b7f-4836-b2f4-ec3ca3a9220b"
      },
      "execution_count": 32,
      "outputs": [
        {
          "output_type": "stream",
          "name": "stderr",
          "text": [
            "WARNING - datasets.builder -  Reusing dataset subjqa (/root/.cache/huggingface/datasets/subjqa/electronics/1.1.0/e5588f9298ff2d70686a00cc377e4bdccf4e32287459e3c6baf2dc5ab57fe7fd)\n"
          ]
        },
        {
          "output_type": "display_data",
          "data": {
            "text/plain": [
              "  0%|          | 0/3 [00:00<?, ?it/s]"
            ],
            "application/vnd.jupyter.widget-view+json": {
              "version_major": 2,
              "version_minor": 0,
              "model_id": "0ee607d1e15448d59abe697bf409e08c"
            }
          },
          "metadata": {}
        }
      ]
    },
    {
      "cell_type": "code",
      "source": [
        "print(subjqa[\"train\"][\"answers\"][1])"
      ],
      "metadata": {
        "colab": {
          "base_uri": "https://localhost:8080/"
        },
        "id": "J8h7so6I5kfn",
        "outputId": "7fc9492b-7a4f-4826-d055-bcd0be728173"
      },
      "execution_count": 33,
      "outputs": [
        {
          "output_type": "stream",
          "name": "stdout",
          "text": [
            "{'text': ['Bass is weak as expected', 'Bass is weak as expected, even with EQ adjusted up'], 'answer_start': [1302, 1302], 'answer_subj_level': [1, 1], 'ans_subj_score': [0.5083333253860474, 0.5083333253860474], 'is_ans_subjective': [True, True]}\n"
          ]
        }
      ]
    },
    {
      "cell_type": "code",
      "source": [
        "import pandas as pd\n",
        "dfs = {split: dset.to_pandas() for split, dset in subjqa.flatten().items()}\n",
        "\n",
        "for split, df in dfs.items():\n",
        "  print(f\"Number of questions in {split}: {df['id'].nunique()}\")"
      ],
      "metadata": {
        "colab": {
          "base_uri": "https://localhost:8080/"
        },
        "id": "ReBOvGsi5xCs",
        "outputId": "9aabd533-a537-4cd2-b709-4db39f99c56e"
      },
      "execution_count": 34,
      "outputs": [
        {
          "output_type": "stream",
          "name": "stdout",
          "text": [
            "Number of questions in train: 1295\n",
            "Number of questions in test: 358\n",
            "Number of questions in validation: 255\n"
          ]
        }
      ]
    },
    {
      "cell_type": "code",
      "source": [
        "qa_cols = [\"title\", \"question\", \"answers.text\", \"answers.answer_start\", \"context\"]\n",
        "sample_df = dfs[\"train\"][qa_cols].sample(2, random_state=7)\n",
        "sample_df"
      ],
      "metadata": {
        "colab": {
          "base_uri": "https://localhost:8080/",
          "height": 112
        },
        "id": "0viDNzZsDApC",
        "outputId": "73409ecf-609d-4f53-c0b6-3eae82d8beb2"
      },
      "execution_count": 35,
      "outputs": [
        {
          "output_type": "execute_result",
          "data": {
            "text/plain": [
              "           title                        question                answers.text  \\\n",
              "791   B005DKZTMG  Does the keyboard lightweight?  [this keyboard is compact]   \n",
              "1159  B00AAIPT76             How is the battery?                          []   \n",
              "\n",
              "     answers.answer_start  \\\n",
              "791                 [215]   \n",
              "1159                   []   \n",
              "\n",
              "                                                                              context  \n",
              "791   I really like this keyboard.  I give it 4 stars because it doesn't have a CA...  \n",
              "1159  I bought this after the first spare gopro battery I bought wouldn't hold a c...  "
            ],
            "text/html": [
              "\n",
              "  <div id=\"df-623fac22-b714-4e69-b04b-78eba3b5dd00\">\n",
              "    <div class=\"colab-df-container\">\n",
              "      <div>\n",
              "<style scoped>\n",
              "    .dataframe tbody tr th:only-of-type {\n",
              "        vertical-align: middle;\n",
              "    }\n",
              "\n",
              "    .dataframe tbody tr th {\n",
              "        vertical-align: top;\n",
              "    }\n",
              "\n",
              "    .dataframe thead th {\n",
              "        text-align: right;\n",
              "    }\n",
              "</style>\n",
              "<table border=\"1\" class=\"dataframe\">\n",
              "  <thead>\n",
              "    <tr style=\"text-align: right;\">\n",
              "      <th></th>\n",
              "      <th>title</th>\n",
              "      <th>question</th>\n",
              "      <th>answers.text</th>\n",
              "      <th>answers.answer_start</th>\n",
              "      <th>context</th>\n",
              "    </tr>\n",
              "  </thead>\n",
              "  <tbody>\n",
              "    <tr>\n",
              "      <th>791</th>\n",
              "      <td>B005DKZTMG</td>\n",
              "      <td>Does the keyboard lightweight?</td>\n",
              "      <td>[this keyboard is compact]</td>\n",
              "      <td>[215]</td>\n",
              "      <td>I really like this keyboard.  I give it 4 stars because it doesn't have a CA...</td>\n",
              "    </tr>\n",
              "    <tr>\n",
              "      <th>1159</th>\n",
              "      <td>B00AAIPT76</td>\n",
              "      <td>How is the battery?</td>\n",
              "      <td>[]</td>\n",
              "      <td>[]</td>\n",
              "      <td>I bought this after the first spare gopro battery I bought wouldn't hold a c...</td>\n",
              "    </tr>\n",
              "  </tbody>\n",
              "</table>\n",
              "</div>\n",
              "      <button class=\"colab-df-convert\" onclick=\"convertToInteractive('df-623fac22-b714-4e69-b04b-78eba3b5dd00')\"\n",
              "              title=\"Convert this dataframe to an interactive table.\"\n",
              "              style=\"display:none;\">\n",
              "        \n",
              "  <svg xmlns=\"http://www.w3.org/2000/svg\" height=\"24px\"viewBox=\"0 0 24 24\"\n",
              "       width=\"24px\">\n",
              "    <path d=\"M0 0h24v24H0V0z\" fill=\"none\"/>\n",
              "    <path d=\"M18.56 5.44l.94 2.06.94-2.06 2.06-.94-2.06-.94-.94-2.06-.94 2.06-2.06.94zm-11 1L8.5 8.5l.94-2.06 2.06-.94-2.06-.94L8.5 2.5l-.94 2.06-2.06.94zm10 10l.94 2.06.94-2.06 2.06-.94-2.06-.94-.94-2.06-.94 2.06-2.06.94z\"/><path d=\"M17.41 7.96l-1.37-1.37c-.4-.4-.92-.59-1.43-.59-.52 0-1.04.2-1.43.59L10.3 9.45l-7.72 7.72c-.78.78-.78 2.05 0 2.83L4 21.41c.39.39.9.59 1.41.59.51 0 1.02-.2 1.41-.59l7.78-7.78 2.81-2.81c.8-.78.8-2.07 0-2.86zM5.41 20L4 18.59l7.72-7.72 1.47 1.35L5.41 20z\"/>\n",
              "  </svg>\n",
              "      </button>\n",
              "      \n",
              "  <style>\n",
              "    .colab-df-container {\n",
              "      display:flex;\n",
              "      flex-wrap:wrap;\n",
              "      gap: 12px;\n",
              "    }\n",
              "\n",
              "    .colab-df-convert {\n",
              "      background-color: #E8F0FE;\n",
              "      border: none;\n",
              "      border-radius: 50%;\n",
              "      cursor: pointer;\n",
              "      display: none;\n",
              "      fill: #1967D2;\n",
              "      height: 32px;\n",
              "      padding: 0 0 0 0;\n",
              "      width: 32px;\n",
              "    }\n",
              "\n",
              "    .colab-df-convert:hover {\n",
              "      background-color: #E2EBFA;\n",
              "      box-shadow: 0px 1px 2px rgba(60, 64, 67, 0.3), 0px 1px 3px 1px rgba(60, 64, 67, 0.15);\n",
              "      fill: #174EA6;\n",
              "    }\n",
              "\n",
              "    [theme=dark] .colab-df-convert {\n",
              "      background-color: #3B4455;\n",
              "      fill: #D2E3FC;\n",
              "    }\n",
              "\n",
              "    [theme=dark] .colab-df-convert:hover {\n",
              "      background-color: #434B5C;\n",
              "      box-shadow: 0px 1px 3px 1px rgba(0, 0, 0, 0.15);\n",
              "      filter: drop-shadow(0px 1px 2px rgba(0, 0, 0, 0.3));\n",
              "      fill: #FFFFFF;\n",
              "    }\n",
              "  </style>\n",
              "\n",
              "      <script>\n",
              "        const buttonEl =\n",
              "          document.querySelector('#df-623fac22-b714-4e69-b04b-78eba3b5dd00 button.colab-df-convert');\n",
              "        buttonEl.style.display =\n",
              "          google.colab.kernel.accessAllowed ? 'block' : 'none';\n",
              "\n",
              "        async function convertToInteractive(key) {\n",
              "          const element = document.querySelector('#df-623fac22-b714-4e69-b04b-78eba3b5dd00');\n",
              "          const dataTable =\n",
              "            await google.colab.kernel.invokeFunction('convertToInteractive',\n",
              "                                                     [key], {});\n",
              "          if (!dataTable) return;\n",
              "\n",
              "          const docLinkHtml = 'Like what you see? Visit the ' +\n",
              "            '<a target=\"_blank\" href=https://colab.research.google.com/notebooks/data_table.ipynb>data table notebook</a>'\n",
              "            + ' to learn more about interactive tables.';\n",
              "          element.innerHTML = '';\n",
              "          dataTable['output_type'] = 'display_data';\n",
              "          await google.colab.output.renderOutput(dataTable, element);\n",
              "          const docLink = document.createElement('div');\n",
              "          docLink.innerHTML = docLinkHtml;\n",
              "          element.appendChild(docLink);\n",
              "        }\n",
              "      </script>\n",
              "    </div>\n",
              "  </div>\n",
              "  "
            ]
          },
          "metadata": {},
          "execution_count": 35
        }
      ]
    },
    {
      "cell_type": "code",
      "source": [
        "start_idx = sample_df[\"answers.answer_start\"].iloc[0][0]\n",
        "end_idx = start_idx + len(sample_df[\"answers.text\"].iloc[0][0])\n",
        "sample_df[\"context\"].iloc[0][start_idx:end_idx]"
      ],
      "metadata": {
        "colab": {
          "base_uri": "https://localhost:8080/",
          "height": 35
        },
        "id": "8tyf6tHQDc1Z",
        "outputId": "b6f566a4-ce44-45f8-eabc-8cacf67deb19"
      },
      "execution_count": 36,
      "outputs": [
        {
          "output_type": "execute_result",
          "data": {
            "text/plain": [
              "'this keyboard is compact'"
            ],
            "application/vnd.google.colaboratory.intrinsic+json": {
              "type": "string"
            }
          },
          "metadata": {},
          "execution_count": 36
        }
      ]
    },
    {
      "cell_type": "code",
      "source": [
        "import matplotlib.pyplot as plt\n",
        "\n",
        "counts = {}\n",
        "question_types = [\"What\", \"How\", \"Is\", \"Does\", \"Do\", \"Was\", \"Where\", \"Why\"]\n",
        "for q in question_types:\n",
        "  counts[q] = dfs[\"train\"][\"question\"].str.startswith(q).value_counts()[True]\n",
        "\n",
        "pd.Series(counts).sort_values().plot.barh()\n",
        "plt.title(\"Frequency of Question Types\")\n",
        "plt.show()"
      ],
      "metadata": {
        "colab": {
          "base_uri": "https://localhost:8080/",
          "height": 281
        },
        "id": "ho3SP-tfEkUf",
        "outputId": "150a02bd-091d-40d2-d32b-3b1d35abc453"
      },
      "execution_count": 37,
      "outputs": [
        {
          "output_type": "display_data",
          "data": {
            "text/plain": [
              "<Figure size 432x288 with 1 Axes>"
            ],
            "image/png": "[encoded data removed]"
          },
          "metadata": {
            "needs_background": "light"
          }
        }
      ]
    },
    {
      "cell_type": "code",
      "source": [
        "for question_type in [\"How\", \"What\", \"Is\"]:\n",
        "  for question in (\n",
        "      dfs[\"train\"][dfs[\"train\"].question.str.startswith(question_type)]\n",
        "      .sample(n=3, random_state=42)['question']):\n",
        "    print(question)"
      ],
      "metadata": {
        "colab": {
          "base_uri": "https://localhost:8080/"
        },
        "id": "R75t2kzBFIjq",
        "outputId": "94809304-4ce9-4e77-979c-e962736a2392"
      },
      "execution_count": 38,
      "outputs": [
        {
          "output_type": "stream",
          "name": "stdout",
          "text": [
            "How is the camera?\n",
            "How do you like the control?\n",
            "How fast is the charger?\n",
            "What is direction?\n",
            "What is the quality of the construction of the bag?\n",
            "What is your impression of the product?\n",
            "Is this how zoom works?\n",
            "Is sound clear?\n",
            "Is it a wireless keyboard?\n"
          ]
        }
      ]
    },
    {
      "cell_type": "markdown",
      "source": [
        "### Tokenizing Texts for QA"
      ],
      "metadata": {
        "id": "MvG8vMgoHFLp"
      }
    },
    {
      "cell_type": "code",
      "source": [
        "from transformers import AutoTokenizer\n",
        "\n",
        "model_ckpt = \"deepset/minilm-uncased-squad2\"\n",
        "tokenizer = AutoTokenizer.from_pretrained(model_ckpt)"
      ],
      "metadata": {
        "id": "IwqxyZHvF5Ji"
      },
      "execution_count": 39,
      "outputs": []
    },
    {
      "cell_type": "code",
      "source": [
        "# Check\n",
        "question = \"How much music can this hold?\"\n",
        "context = \"\"\"An MP3 is about 1 MB/minute, so about 6000 hours depending on \\\n",
        "file size.\"\"\"\n",
        "inputs = tokenizer(question, context, return_tensors=\"pt\")"
      ],
      "metadata": {
        "id": "6FCR40x8HWrn"
      },
      "execution_count": 40,
      "outputs": []
    },
    {
      "cell_type": "code",
      "source": [
        "inputs"
      ],
      "metadata": {
        "colab": {
          "base_uri": "https://localhost:8080/"
        },
        "id": "Omdedk6GHvTn",
        "outputId": "1889105b-b9a1-4ff1-eb2f-6b4e44c55afc"
      },
      "execution_count": 41,
      "outputs": [
        {
          "output_type": "execute_result",
          "data": {
            "text/plain": [
              "{'input_ids': tensor([[  101,  2129,  2172,  2189,  2064,  2023,  2907,  1029,   102,  2019,\n",
              "         23378,  2003,  2055,  1015, 16914,  1013,  3371,  1010,  2061,  2055,\n",
              "         25961,  2847,  5834,  2006,  5371,  2946,  1012,   102]]), 'token_type_ids': tensor([[0, 0, 0, 0, 0, 0, 0, 0, 0, 1, 1, 1, 1, 1, 1, 1, 1, 1, 1, 1, 1, 1, 1, 1,\n",
              "         1, 1, 1, 1]]), 'attention_mask': tensor([[1, 1, 1, 1, 1, 1, 1, 1, 1, 1, 1, 1, 1, 1, 1, 1, 1, 1, 1, 1, 1, 1, 1, 1,\n",
              "         1, 1, 1, 1]])}"
            ]
          },
          "metadata": {},
          "execution_count": 41
        }
      ]
    },
    {
      "cell_type": "code",
      "source": [
        "print(tokenizer.decode(inputs[\"input_ids\"][0]))"
      ],
      "metadata": {
        "colab": {
          "base_uri": "https://localhost:8080/"
        },
        "id": "Y3KymeYTHxfI",
        "outputId": "bc6d27c8-cf29-4333-fb3c-b62c25684d78"
      },
      "execution_count": 42,
      "outputs": [
        {
          "output_type": "stream",
          "name": "stdout",
          "text": [
            "[CLS] how much music can this hold? [SEP] an mp3 is about 1 mb / minute, so about 6000 hours depending on file size. [SEP]\n"
          ]
        }
      ]
    },
    {
      "cell_type": "code",
      "source": [
        "import torch\n",
        "from transformers import AutoModelForQuestionAnswering\n",
        "\n",
        "model = AutoModelForQuestionAnswering.from_pretrained(model_ckpt)\n",
        "\n",
        "with torch.no_grad():\n",
        "  outputs = model(**inputs)\n",
        "print(outputs)"
      ],
      "metadata": {
        "colab": {
          "base_uri": "https://localhost:8080/"
        },
        "id": "weOqSf-wIBiq",
        "outputId": "5fcda608-c8ee-4f8d-d444-33836683d4c5"
      },
      "execution_count": 43,
      "outputs": [
        {
          "output_type": "stream",
          "name": "stdout",
          "text": [
            "QuestionAnsweringModelOutput(loss=None, start_logits=tensor([[-0.9862, -4.7750, -5.4025, -5.2378, -5.2863, -5.5117, -4.9819, -6.1880,\n",
            "         -0.9862,  0.2596, -0.2144, -1.7136,  3.7806,  4.8561, -1.0546, -3.9097,\n",
            "         -1.7374, -4.5944, -1.4278,  3.9949,  5.0391, -0.2018, -3.0193, -4.8549,\n",
            "         -2.3107, -3.5110, -3.5713, -0.9862]]), end_logits=tensor([[-0.9623, -5.4733, -5.0326, -5.1639, -5.4278, -5.5151, -5.1749, -4.6233,\n",
            "         -0.9623, -3.7855, -0.8715, -3.7745, -3.0162, -1.1780,  0.1758, -2.7365,\n",
            "          4.8934,  0.3046, -3.1761, -3.2762,  0.8937,  5.6606, -0.3623, -4.9554,\n",
            "         -3.2531, -0.0914,  1.6211, -0.9623]]), hidden_states=None, attentions=None)\n"
          ]
        }
      ]
    },
    {
      "cell_type": "code",
      "source": [
        "start_logits = outputs.start_logits\n",
        "end_logits = outputs.end_logits"
      ],
      "metadata": {
        "id": "3Sa68izoIZx2"
      },
      "execution_count": 44,
      "outputs": []
    },
    {
      "cell_type": "code",
      "source": [
        "print(f\"Input IDs shape: {inputs.input_ids.size()}\")\n",
        "print(f\"Start logits shape: {start_logits.size()}\")\n",
        "print(f\"End logits shape: {end_logits.size()}\")"
      ],
      "metadata": {
        "colab": {
          "base_uri": "https://localhost:8080/"
        },
        "id": "1wkSDTjUIuVU",
        "outputId": "d6f42b22-7c57-42d6-8964-98c6a27c04bc"
      },
      "execution_count": 45,
      "outputs": [
        {
          "output_type": "stream",
          "name": "stdout",
          "text": [
            "Input IDs shape: torch.Size([1, 28])\n",
            "Start logits shape: torch.Size([1, 28])\n",
            "End logits shape: torch.Size([1, 28])\n"
          ]
        }
      ]
    },
    {
      "cell_type": "code",
      "source": [
        "import torch\n",
        "\n",
        "start_idx = torch.argmax(start_logits)\n",
        "end_idx = torch.argmax(end_logits) + 1\n",
        "answer_span = inputs[\"input_ids\"][0][start_idx:end_idx]\n",
        "answer = tokenizer.decode(answer_span)\n",
        "print(f\"Question: {question}\")\n",
        "print(f\"Answer: {answer}\")"
      ],
      "metadata": {
        "colab": {
          "base_uri": "https://localhost:8080/"
        },
        "id": "fkz4K5b1L8XV",
        "outputId": "4b58a600-c67e-4368-f6ee-11abcebb95dd"
      },
      "execution_count": 46,
      "outputs": [
        {
          "output_type": "stream",
          "name": "stdout",
          "text": [
            "Question: How much music can this hold?\n",
            "Answer: 6000 hours\n"
          ]
        }
      ]
    },
    {
      "cell_type": "code",
      "source": [
        "from transformers import pipeline\n",
        "\n",
        "pipe = pipeline(\"question-answering\", model=model, tokenizer=tokenizer)\n",
        "pipe(question=question, context=context, topk=3)"
      ],
      "metadata": {
        "colab": {
          "base_uri": "https://localhost:8080/"
        },
        "id": "k2bm4QqPMrk1",
        "outputId": "dad939eb-b2b1-4562-cb4a-e053aabb7fff"
      },
      "execution_count": 47,
      "outputs": [
        {
          "output_type": "stream",
          "name": "stderr",
          "text": [
            "/usr/local/lib/python3.7/dist-packages/transformers/pipelines/question_answering.py:189: UserWarning: topk parameter is deprecated, use top_k instead\n",
            "  warnings.warn(\"topk parameter is deprecated, use top_k instead\", UserWarning)\n"
          ]
        },
        {
          "output_type": "execute_result",
          "data": {
            "text/plain": [
              "[{'answer': '6000 hours', 'end': 48, 'score': 0.2651623487472534, 'start': 38},\n",
              " {'answer': '1 MB/minute, so about 6000 hours',\n",
              "  'end': 48,\n",
              "  'score': 0.22082945704460144,\n",
              "  'start': 16},\n",
              " {'answer': '1 MB/minute',\n",
              "  'end': 27,\n",
              "  'score': 0.10253474861383438,\n",
              "  'start': 16}]"
            ]
          },
          "metadata": {},
          "execution_count": 47
        }
      ]
    },
    {
      "cell_type": "code",
      "source": [
        "pipe(question=\"Why is there no data?\", context=context, handle_impossible_answer=True)"
      ],
      "metadata": {
        "colab": {
          "base_uri": "https://localhost:8080/"
        },
        "id": "rZUiR4BENECB",
        "outputId": "a5fab937-886d-4c7c-c85d-ba025bf1fcc7"
      },
      "execution_count": 48,
      "outputs": [
        {
          "output_type": "execute_result",
          "data": {
            "text/plain": [
              "{'answer': '', 'end': 0, 'score': 0.9068416357040405, 'start': 0}"
            ]
          },
          "metadata": {},
          "execution_count": 48
        }
      ]
    },
    {
      "cell_type": "code",
      "source": [
        "example = dfs[\"train\"].iloc[0][[\"question\", \"context\"]]\n",
        "tokenized_example = tokenizer(example[\"question\"], \n",
        "                              example[\"context\"], \n",
        "                              return_overflowing_tokens=True, \n",
        "                              max_length=100, \n",
        "                              stride=25)"
      ],
      "metadata": {
        "colab": {
          "base_uri": "https://localhost:8080/"
        },
        "id": "xHSSVTPwOWfA",
        "outputId": "2ab2e1b2-0c49-493e-ba20-69427ca88d64"
      },
      "execution_count": 49,
      "outputs": [
        {
          "output_type": "stream",
          "name": "stderr",
          "text": [
            "Truncation was not explicitly activated but `max_length` is provided a specific value, please use `truncation=True` to explicitly truncate examples to max length. Defaulting to 'longest_first' truncation strategy. If you encode pairs of sequences (GLUE-style) with the tokenizer you can select this strategy more precisely by providing a specific strategy to `truncation`.\n"
          ]
        }
      ]
    },
    {
      "cell_type": "code",
      "source": [
        "for idx, window in enumerate(tokenized_example[\"input_ids\"]):\n",
        "  print(f\"Window #{idx} has {len(window)} tokens\")"
      ],
      "metadata": {
        "colab": {
          "base_uri": "https://localhost:8080/"
        },
        "id": "MTIEp-ChRDP9",
        "outputId": "a6204a54-64db-4e2c-daf1-cbdc90f0f62d"
      },
      "execution_count": 50,
      "outputs": [
        {
          "output_type": "stream",
          "name": "stdout",
          "text": [
            "Window #0 has 100 tokens\n",
            "Window #1 has 88 tokens\n"
          ]
        }
      ]
    },
    {
      "cell_type": "code",
      "source": [
        "for window in tokenized_example[\"input_ids\"]:\n",
        "  print(f\"{tokenizer.decode(window)} \\n\")"
      ],
      "metadata": {
        "colab": {
          "base_uri": "https://localhost:8080/"
        },
        "id": "a5IJdv7XRYKi",
        "outputId": "9839d847-8548-4845-b1a3-0aaca2536a56"
      },
      "execution_count": 51,
      "outputs": [
        {
          "output_type": "stream",
          "name": "stdout",
          "text": [
            "[CLS] how is the bass? [SEP] i have had koss headphones in the past, pro 4aa and qz - 99. the koss portapro is portable and has great bass response. the work great with my android phone and can be \" rolled up \" to be carried in my motorcycle jacket or computer bag without getting crunched. they are very light and don't feel heavy or bear down on your ears even after listening to music with them on all day. the sound is [SEP] \n",
            "\n",
            "[CLS] how is the bass? [SEP] and don't feel heavy or bear down on your ears even after listening to music with them on all day. the sound is night and day better than any ear - bud could be and are almost as good as the pro 4aa. they are \" open air \" headphones so you cannot match the bass to the sealed types, but it comes close. for $ 32, you cannot go wrong. [SEP] \n",
            "\n"
          ]
        }
      ]
    },
    {
      "cell_type": "markdown",
      "source": [
        "### Using Haystack to Build a QA Pipeline"
      ],
      "metadata": {
        "id": "6PiyegxCRuoB"
      }
    },
    {
      "cell_type": "code",
      "source": [
        "!pip install --quiet grpcio-tools==1.34.1\n",
        "!pip install --quiet git+https://github.com/deepset-ai/haystack.git"
      ],
      "metadata": {
        "colab": {
          "base_uri": "https://localhost:8080/"
        },
        "id": "7togFFApDa-Q",
        "outputId": "dd7baab2-cea2-493f-813f-720bf2ee46c7"
      },
      "execution_count": 52,
      "outputs": [
        {
          "output_type": "stream",
          "name": "stdout",
          "text": [
            "\u001b[?25l\r\u001b[K     |▏                               | 10 kB 32.9 MB/s eta 0:00:01\r\u001b[K     |▎                               | 20 kB 42.0 MB/s eta 0:00:01\r\u001b[K     |▍                               | 30 kB 25.8 MB/s eta 0:00:01\r\u001b[K     |▌                               | 40 kB 9.6 MB/s eta 0:00:01\r\u001b[K     |▋                               | 51 kB 10.0 MB/s eta 0:00:01\r\u001b[K     |▊                               | 61 kB 11.7 MB/s eta 0:00:01\r\u001b[K     |█                               | 71 kB 10.9 MB/s eta 0:00:01\r\u001b[K     |█                               | 81 kB 10.8 MB/s eta 0:00:01\r\u001b[K     |█▏                              | 92 kB 12.0 MB/s eta 0:00:01\r\u001b[K     |█▎                              | 102 kB 10.2 MB/s eta 0:00:01\r\u001b[K     |█▍                              | 112 kB 10.2 MB/s eta 0:00:01\r\u001b[K     |█▌                              | 122 kB 10.2 MB/s eta 0:00:01\r\u001b[K     |█▊                              | 133 kB 10.2 MB/s eta 0:00:01\r\u001b[K     |█▉                              | 143 kB 10.2 MB/s eta 0:00:01\r\u001b[K     |██                              | 153 kB 10.2 MB/s eta 0:00:01\r\u001b[K     |██                              | 163 kB 10.2 MB/s eta 0:00:01\r\u001b[K     |██▏                             | 174 kB 10.2 MB/s eta 0:00:01\r\u001b[K     |██▎                             | 184 kB 10.2 MB/s eta 0:00:01\r\u001b[K     |██▌                             | 194 kB 10.2 MB/s eta 0:00:01\r\u001b[K     |██▋                             | 204 kB 10.2 MB/s eta 0:00:01\r\u001b[K     |██▊                             | 215 kB 10.2 MB/s eta 0:00:01\r\u001b[K     |██▉                             | 225 kB 10.2 MB/s eta 0:00:01\r\u001b[K     |███                             | 235 kB 10.2 MB/s eta 0:00:01\r\u001b[K     |███                             | 245 kB 10.2 MB/s eta 0:00:01\r\u001b[K     |███▏                            | 256 kB 10.2 MB/s eta 0:00:01\r\u001b[K     |███▍                            | 266 kB 10.2 MB/s eta 0:00:01\r\u001b[K     |███▌                            | 276 kB 10.2 MB/s eta 0:00:01\r\u001b[K     |███▋                            | 286 kB 10.2 MB/s eta 0:00:01\r\u001b[K     |███▊                            | 296 kB 10.2 MB/s eta 0:00:01\r\u001b[K     |███▉                            | 307 kB 10.2 MB/s eta 0:00:01\r\u001b[K     |████                            | 317 kB 10.2 MB/s eta 0:00:01\r\u001b[K     |████▏                           | 327 kB 10.2 MB/s eta 0:00:01\r\u001b[K     |████▎                           | 337 kB 10.2 MB/s eta 0:00:01\r\u001b[K     |████▍                           | 348 kB 10.2 MB/s eta 0:00:01\r\u001b[K     |████▌                           | 358 kB 10.2 MB/s eta 0:00:01\r\u001b[K     |████▋                           | 368 kB 10.2 MB/s eta 0:00:01\r\u001b[K     |████▊                           | 378 kB 10.2 MB/s eta 0:00:01\r\u001b[K     |█████                           | 389 kB 10.2 MB/s eta 0:00:01\r\u001b[K     |█████                           | 399 kB 10.2 MB/s eta 0:00:01\r\u001b[K     |█████▏                          | 409 kB 10.2 MB/s eta 0:00:01\r\u001b[K     |█████▎                          | 419 kB 10.2 MB/s eta 0:00:01\r\u001b[K     |█████▍                          | 430 kB 10.2 MB/s eta 0:00:01\r\u001b[K     |█████▌                          | 440 kB 10.2 MB/s eta 0:00:01\r\u001b[K     |█████▋                          | 450 kB 10.2 MB/s eta 0:00:01\r\u001b[K     |█████▉                          | 460 kB 10.2 MB/s eta 0:00:01\r\u001b[K     |██████                          | 471 kB 10.2 MB/s eta 0:00:01\r\u001b[K     |██████                          | 481 kB 10.2 MB/s eta 0:00:01\r\u001b[K     |██████▏                         | 491 kB 10.2 MB/s eta 0:00:01\r\u001b[K     |██████▎                         | 501 kB 10.2 MB/s eta 0:00:01\r\u001b[K     |██████▍                         | 512 kB 10.2 MB/s eta 0:00:01\r\u001b[K     |██████▋                         | 522 kB 10.2 MB/s eta 0:00:01\r\u001b[K     |██████▊                         | 532 kB 10.2 MB/s eta 0:00:01\r\u001b[K     |██████▉                         | 542 kB 10.2 MB/s eta 0:00:01\r\u001b[K     |███████                         | 552 kB 10.2 MB/s eta 0:00:01\r\u001b[K     |███████                         | 563 kB 10.2 MB/s eta 0:00:01\r\u001b[K     |███████▏                        | 573 kB 10.2 MB/s eta 0:00:01\r\u001b[K     |███████▍                        | 583 kB 10.2 MB/s eta 0:00:01\r\u001b[K     |███████▌                        | 593 kB 10.2 MB/s eta 0:00:01\r\u001b[K     |███████▋                        | 604 kB 10.2 MB/s eta 0:00:01\r\u001b[K     |███████▊                        | 614 kB 10.2 MB/s eta 0:00:01\r\u001b[K     |███████▉                        | 624 kB 10.2 MB/s eta 0:00:01\r\u001b[K     |████████                        | 634 kB 10.2 MB/s eta 0:00:01\r\u001b[K     |████████▏                       | 645 kB 10.2 MB/s eta 0:00:01\r\u001b[K     |████████▎                       | 655 kB 10.2 MB/s eta 0:00:01\r\u001b[K     |████████▍                       | 665 kB 10.2 MB/s eta 0:00:01\r\u001b[K     |████████▌                       | 675 kB 10.2 MB/s eta 0:00:01\r\u001b[K     |████████▋                       | 686 kB 10.2 MB/s eta 0:00:01\r\u001b[K     |████████▊                       | 696 kB 10.2 MB/s eta 0:00:01\r\u001b[K     |████████▉                       | 706 kB 10.2 MB/s eta 0:00:01\r\u001b[K     |█████████                       | 716 kB 10.2 MB/s eta 0:00:01\r\u001b[K     |█████████▏                      | 727 kB 10.2 MB/s eta 0:00:01\r\u001b[K     |█████████▎                      | 737 kB 10.2 MB/s eta 0:00:01\r\u001b[K     |█████████▍                      | 747 kB 10.2 MB/s eta 0:00:01\r\u001b[K     |█████████▌                      | 757 kB 10.2 MB/s eta 0:00:01\r\u001b[K     |█████████▋                      | 768 kB 10.2 MB/s eta 0:00:01\r\u001b[K     |█████████▉                      | 778 kB 10.2 MB/s eta 0:00:01\r\u001b[K     |██████████                      | 788 kB 10.2 MB/s eta 0:00:01\r\u001b[K     |██████████                      | 798 kB 10.2 MB/s eta 0:00:01\r\u001b[K     |██████████▏                     | 808 kB 10.2 MB/s eta 0:00:01\r\u001b[K     |██████████▎                     | 819 kB 10.2 MB/s eta 0:00:01\r\u001b[K     |██████████▍                     | 829 kB 10.2 MB/s eta 0:00:01\r\u001b[K     |██████████▋                     | 839 kB 10.2 MB/s eta 0:00:01\r\u001b[K     |██████████▊                     | 849 kB 10.2 MB/s eta 0:00:01\r\u001b[K     |██████████▉                     | 860 kB 10.2 MB/s eta 0:00:01\r\u001b[K     |███████████                     | 870 kB 10.2 MB/s eta 0:00:01\r\u001b[K     |███████████                     | 880 kB 10.2 MB/s eta 0:00:01\r\u001b[K     |███████████▏                    | 890 kB 10.2 MB/s eta 0:00:01\r\u001b[K     |███████████▎                    | 901 kB 10.2 MB/s eta 0:00:01\r\u001b[K     |███████████▌                    | 911 kB 10.2 MB/s eta 0:00:01\r\u001b[K     |███████████▋                    | 921 kB 10.2 MB/s eta 0:00:01\r\u001b[K     |███████████▊                    | 931 kB 10.2 MB/s eta 0:00:01\r\u001b[K     |███████████▉                    | 942 kB 10.2 MB/s eta 0:00:01\r\u001b[K     |████████████                    | 952 kB 10.2 MB/s eta 0:00:01\r\u001b[K     |████████████                    | 962 kB 10.2 MB/s eta 0:00:01\r\u001b[K     |████████████▎                   | 972 kB 10.2 MB/s eta 0:00:01\r\u001b[K     |████████████▍                   | 983 kB 10.2 MB/s eta 0:00:01\r\u001b[K     |████████████▌                   | 993 kB 10.2 MB/s eta 0:00:01\r\u001b[K     |████████████▋                   | 1.0 MB 10.2 MB/s eta 0:00:01\r\u001b[K     |████████████▊                   | 1.0 MB 10.2 MB/s eta 0:00:01\r\u001b[K     |████████████▉                   | 1.0 MB 10.2 MB/s eta 0:00:01\r\u001b[K     |█████████████                   | 1.0 MB 10.2 MB/s eta 0:00:01\r\u001b[K     |█████████████▏                  | 1.0 MB 10.2 MB/s eta 0:00:01\r\u001b[K     |█████████████▎                  | 1.1 MB 10.2 MB/s eta 0:00:01\r\u001b[K     |█████████████▍                  | 1.1 MB 10.2 MB/s eta 0:00:01\r\u001b[K     |█████████████▌                  | 1.1 MB 10.2 MB/s eta 0:00:01\r\u001b[K     |█████████████▋                  | 1.1 MB 10.2 MB/s eta 0:00:01\r\u001b[K     |█████████████▊                  | 1.1 MB 10.2 MB/s eta 0:00:01\r\u001b[K     |██████████████                  | 1.1 MB 10.2 MB/s eta 0:00:01\r\u001b[K     |██████████████                  | 1.1 MB 10.2 MB/s eta 0:00:01\r\u001b[K     |██████████████▏                 | 1.1 MB 10.2 MB/s eta 0:00:01\r\u001b[K     |██████████████▎                 | 1.1 MB 10.2 MB/s eta 0:00:01\r\u001b[K     |██████████████▍                 | 1.1 MB 10.2 MB/s eta 0:00:01\r\u001b[K     |██████████████▌                 | 1.2 MB 10.2 MB/s eta 0:00:01\r\u001b[K     |██████████████▊                 | 1.2 MB 10.2 MB/s eta 0:00:01\r\u001b[K     |██████████████▉                 | 1.2 MB 10.2 MB/s eta 0:00:01\r\u001b[K     |███████████████                 | 1.2 MB 10.2 MB/s eta 0:00:01\r\u001b[K     |███████████████                 | 1.2 MB 10.2 MB/s eta 0:00:01\r\u001b[K     |███████████████▏                | 1.2 MB 10.2 MB/s eta 0:00:01\r\u001b[K     |███████████████▎                | 1.2 MB 10.2 MB/s eta 0:00:01\r\u001b[K     |███████████████▌                | 1.2 MB 10.2 MB/s eta 0:00:01\r\u001b[K     |███████████████▋                | 1.2 MB 10.2 MB/s eta 0:00:01\r\u001b[K     |███████████████▊                | 1.2 MB 10.2 MB/s eta 0:00:01\r\u001b[K     |███████████████▉                | 1.3 MB 10.2 MB/s eta 0:00:01\r\u001b[K     |████████████████                | 1.3 MB 10.2 MB/s eta 0:00:01\r\u001b[K     |████████████████                | 1.3 MB 10.2 MB/s eta 0:00:01\r\u001b[K     |████████████████▎               | 1.3 MB 10.2 MB/s eta 0:00:01\r\u001b[K     |████████████████▍               | 1.3 MB 10.2 MB/s eta 0:00:01\r\u001b[K     |████████████████▌               | 1.3 MB 10.2 MB/s eta 0:00:01\r\u001b[K     |████████████████▋               | 1.3 MB 10.2 MB/s eta 0:00:01\r\u001b[K     |████████████████▊               | 1.3 MB 10.2 MB/s eta 0:00:01\r\u001b[K     |████████████████▉               | 1.3 MB 10.2 MB/s eta 0:00:01\r\u001b[K     |█████████████████               | 1.4 MB 10.2 MB/s eta 0:00:01\r\u001b[K     |█████████████████▏              | 1.4 MB 10.2 MB/s eta 0:00:01\r\u001b[K     |█████████████████▎              | 1.4 MB 10.2 MB/s eta 0:00:01\r\u001b[K     |█████████████████▍              | 1.4 MB 10.2 MB/s eta 0:00:01\r\u001b[K     |█████████████████▌              | 1.4 MB 10.2 MB/s eta 0:00:01\r\u001b[K     |█████████████████▋              | 1.4 MB 10.2 MB/s eta 0:00:01\r\u001b[K     |█████████████████▊              | 1.4 MB 10.2 MB/s eta 0:00:01\r\u001b[K     |██████████████████              | 1.4 MB 10.2 MB/s eta 0:00:01\r\u001b[K     |██████████████████              | 1.4 MB 10.2 MB/s eta 0:00:01\r\u001b[K     |██████████████████▏             | 1.4 MB 10.2 MB/s eta 0:00:01\r\u001b[K     |██████████████████▎             | 1.5 MB 10.2 MB/s eta 0:00:01\r\u001b[K     |██████████████████▍             | 1.5 MB 10.2 MB/s eta 0:00:01\r\u001b[K     |██████████████████▌             | 1.5 MB 10.2 MB/s eta 0:00:01\r\u001b[K     |██████████████████▊             | 1.5 MB 10.2 MB/s eta 0:00:01\r\u001b[K     |██████████████████▉             | 1.5 MB 10.2 MB/s eta 0:00:01\r\u001b[K     |███████████████████             | 1.5 MB 10.2 MB/s eta 0:00:01\r\u001b[K     |███████████████████             | 1.5 MB 10.2 MB/s eta 0:00:01\r\u001b[K     |███████████████████▏            | 1.5 MB 10.2 MB/s eta 0:00:01\r\u001b[K     |███████████████████▎            | 1.5 MB 10.2 MB/s eta 0:00:01\r\u001b[K     |███████████████████▍            | 1.5 MB 10.2 MB/s eta 0:00:01\r\u001b[K     |███████████████████▋            | 1.6 MB 10.2 MB/s eta 0:00:01\r\u001b[K     |███████████████████▊            | 1.6 MB 10.2 MB/s eta 0:00:01\r\u001b[K     |███████████████████▉            | 1.6 MB 10.2 MB/s eta 0:00:01\r\u001b[K     |████████████████████            | 1.6 MB 10.2 MB/s eta 0:00:01\r\u001b[K     |████████████████████            | 1.6 MB 10.2 MB/s eta 0:00:01\r\u001b[K     |████████████████████▏           | 1.6 MB 10.2 MB/s eta 0:00:01\r\u001b[K     |████████████████████▍           | 1.6 MB 10.2 MB/s eta 0:00:01\r\u001b[K     |████████████████████▌           | 1.6 MB 10.2 MB/s eta 0:00:01\r\u001b[K     |████████████████████▋           | 1.6 MB 10.2 MB/s eta 0:00:01\r\u001b[K     |████████████████████▊           | 1.6 MB 10.2 MB/s eta 0:00:01\r\u001b[K     |████████████████████▉           | 1.7 MB 10.2 MB/s eta 0:00:01\r\u001b[K     |█████████████████████           | 1.7 MB 10.2 MB/s eta 0:00:01\r\u001b[K     |█████████████████████▏          | 1.7 MB 10.2 MB/s eta 0:00:01\r\u001b[K     |█████████████████████▎          | 1.7 MB 10.2 MB/s eta 0:00:01\r\u001b[K     |█████████████████████▍          | 1.7 MB 10.2 MB/s eta 0:00:01\r\u001b[K     |█████████████████████▌          | 1.7 MB 10.2 MB/s eta 0:00:01\r\u001b[K     |█████████████████████▋          | 1.7 MB 10.2 MB/s eta 0:00:01\r\u001b[K     |█████████████████████▊          | 1.7 MB 10.2 MB/s eta 0:00:01\r\u001b[K     |█████████████████████▉          | 1.7 MB 10.2 MB/s eta 0:00:01\r\u001b[K     |██████████████████████          | 1.8 MB 10.2 MB/s eta 0:00:01\r\u001b[K     |██████████████████████▏         | 1.8 MB 10.2 MB/s eta 0:00:01\r\u001b[K     |██████████████████████▎         | 1.8 MB 10.2 MB/s eta 0:00:01\r\u001b[K     |██████████████████████▍         | 1.8 MB 10.2 MB/s eta 0:00:01\r\u001b[K     |██████████████████████▌         | 1.8 MB 10.2 MB/s eta 0:00:01\r\u001b[K     |██████████████████████▋         | 1.8 MB 10.2 MB/s eta 0:00:01\r\u001b[K     |██████████████████████▉         | 1.8 MB 10.2 MB/s eta 0:00:01\r\u001b[K     |███████████████████████         | 1.8 MB 10.2 MB/s eta 0:00:01\r\u001b[K     |███████████████████████         | 1.8 MB 10.2 MB/s eta 0:00:01\r\u001b[K     |███████████████████████▏        | 1.8 MB 10.2 MB/s eta 0:00:01\r\u001b[K     |███████████████████████▎        | 1.9 MB 10.2 MB/s eta 0:00:01\r\u001b[K     |███████████████████████▍        | 1.9 MB 10.2 MB/s eta 0:00:01\r\u001b[K     |███████████████████████▋        | 1.9 MB 10.2 MB/s eta 0:00:01\r\u001b[K     |███████████████████████▊        | 1.9 MB 10.2 MB/s eta 0:00:01\r\u001b[K     |███████████████████████▉        | 1.9 MB 10.2 MB/s eta 0:00:01\r\u001b[K     |████████████████████████        | 1.9 MB 10.2 MB/s eta 0:00:01\r\u001b[K     |████████████████████████        | 1.9 MB 10.2 MB/s eta 0:00:01\r\u001b[K     |████████████████████████▏       | 1.9 MB 10.2 MB/s eta 0:00:01\r\u001b[K     |████████████████████████▍       | 1.9 MB 10.2 MB/s eta 0:00:01\r\u001b[K     |████████████████████████▌       | 1.9 MB 10.2 MB/s eta 0:00:01\r\u001b[K     |████████████████████████▋       | 2.0 MB 10.2 MB/s eta 0:00:01\r\u001b[K     |████████████████████████▊       | 2.0 MB 10.2 MB/s eta 0:00:01\r\u001b[K     |████████████████████████▉       | 2.0 MB 10.2 MB/s eta 0:00:01\r\u001b[K     |█████████████████████████       | 2.0 MB 10.2 MB/s eta 0:00:01\r\u001b[K     |█████████████████████████       | 2.0 MB 10.2 MB/s eta 0:00:01\r\u001b[K     |█████████████████████████▎      | 2.0 MB 10.2 MB/s eta 0:00:01\r\u001b[K     |█████████████████████████▍      | 2.0 MB 10.2 MB/s eta 0:00:01\r\u001b[K     |█████████████████████████▌      | 2.0 MB 10.2 MB/s eta 0:00:01\r\u001b[K     |█████████████████████████▋      | 2.0 MB 10.2 MB/s eta 0:00:01\r\u001b[K     |█████████████████████████▊      | 2.0 MB 10.2 MB/s eta 0:00:01\r\u001b[K     |█████████████████████████▉      | 2.1 MB 10.2 MB/s eta 0:00:01\r\u001b[K     |██████████████████████████      | 2.1 MB 10.2 MB/s eta 0:00:01\r\u001b[K     |██████████████████████████▏     | 2.1 MB 10.2 MB/s eta 0:00:01\r\u001b[K     |██████████████████████████▎     | 2.1 MB 10.2 MB/s eta 0:00:01\r\u001b[K     |██████████████████████████▍     | 2.1 MB 10.2 MB/s eta 0:00:01\r\u001b[K     |██████████████████████████▌     | 2.1 MB 10.2 MB/s eta 0:00:01\r\u001b[K     |██████████████████████████▋     | 2.1 MB 10.2 MB/s eta 0:00:01\r\u001b[K     |██████████████████████████▉     | 2.1 MB 10.2 MB/s eta 0:00:01\r\u001b[K     |███████████████████████████     | 2.1 MB 10.2 MB/s eta 0:00:01\r\u001b[K     |███████████████████████████     | 2.2 MB 10.2 MB/s eta 0:00:01\r\u001b[K     |███████████████████████████▏    | 2.2 MB 10.2 MB/s eta 0:00:01\r\u001b[K     |███████████████████████████▎    | 2.2 MB 10.2 MB/s eta 0:00:01\r\u001b[K     |███████████████████████████▍    | 2.2 MB 10.2 MB/s eta 0:00:01\r\u001b[K     |███████████████████████████▌    | 2.2 MB 10.2 MB/s eta 0:00:01\r\u001b[K     |███████████████████████████▊    | 2.2 MB 10.2 MB/s eta 0:00:01\r\u001b[K     |███████████████████████████▉    | 2.2 MB 10.2 MB/s eta 0:00:01\r\u001b[K     |████████████████████████████    | 2.2 MB 10.2 MB/s eta 0:00:01\r\u001b[K     |████████████████████████████    | 2.2 MB 10.2 MB/s eta 0:00:01\r\u001b[K     |████████████████████████████▏   | 2.2 MB 10.2 MB/s eta 0:00:01\r\u001b[K     |████████████████████████████▎   | 2.3 MB 10.2 MB/s eta 0:00:01\r\u001b[K     |████████████████████████████▌   | 2.3 MB 10.2 MB/s eta 0:00:01\r\u001b[K     |████████████████████████████▋   | 2.3 MB 10.2 MB/s eta 0:00:01\r\u001b[K     |████████████████████████████▊   | 2.3 MB 10.2 MB/s eta 0:00:01\r\u001b[K     |████████████████████████████▉   | 2.3 MB 10.2 MB/s eta 0:00:01\r\u001b[K     |█████████████████████████████   | 2.3 MB 10.2 MB/s eta 0:00:01\r\u001b[K     |█████████████████████████████   | 2.3 MB 10.2 MB/s eta 0:00:01\r\u001b[K     |█████████████████████████████▎  | 2.3 MB 10.2 MB/s eta 0:00:01\r\u001b[K     |█████████████████████████████▍  | 2.3 MB 10.2 MB/s eta 0:00:01\r\u001b[K     |█████████████████████████████▌  | 2.3 MB 10.2 MB/s eta 0:00:01\r\u001b[K     |█████████████████████████████▋  | 2.4 MB 10.2 MB/s eta 0:00:01\r\u001b[K     |█████████████████████████████▊  | 2.4 MB 10.2 MB/s eta 0:00:01\r\u001b[K     |█████████████████████████████▉  | 2.4 MB 10.2 MB/s eta 0:00:01\r\u001b[K     |██████████████████████████████  | 2.4 MB 10.2 MB/s eta 0:00:01\r\u001b[K     |██████████████████████████████▏ | 2.4 MB 10.2 MB/s eta 0:00:01\r\u001b[K     |██████████████████████████████▎ | 2.4 MB 10.2 MB/s eta 0:00:01\r\u001b[K     |██████████████████████████████▍ | 2.4 MB 10.2 MB/s eta 0:00:01\r\u001b[K     |██████████████████████████████▌ | 2.4 MB 10.2 MB/s eta 0:00:01\r\u001b[K     |██████████████████████████████▋ | 2.4 MB 10.2 MB/s eta 0:00:01\r\u001b[K     |██████████████████████████████▊ | 2.4 MB 10.2 MB/s eta 0:00:01\r\u001b[K     |███████████████████████████████ | 2.5 MB 10.2 MB/s eta 0:00:01\r\u001b[K     |███████████████████████████████ | 2.5 MB 10.2 MB/s eta 0:00:01\r\u001b[K     |███████████████████████████████▏| 2.5 MB 10.2 MB/s eta 0:00:01\r\u001b[K     |███████████████████████████████▎| 2.5 MB 10.2 MB/s eta 0:00:01\r\u001b[K     |███████████████████████████████▍| 2.5 MB 10.2 MB/s eta 0:00:01\r\u001b[K     |███████████████████████████████▌| 2.5 MB 10.2 MB/s eta 0:00:01\r\u001b[K     |███████████████████████████████▊| 2.5 MB 10.2 MB/s eta 0:00:01\r\u001b[K     |███████████████████████████████▉| 2.5 MB 10.2 MB/s eta 0:00:01\r\u001b[K     |████████████████████████████████| 2.5 MB 10.2 MB/s eta 0:00:01\r\u001b[K     |████████████████████████████████| 2.5 MB 10.2 MB/s \n",
            "\u001b[?25h  Installing build dependencies ... \u001b[?25l\u001b[?25hdone\n",
            "  Getting requirements to build wheel ... \u001b[?25l\u001b[?25hdone\n",
            "    Preparing wheel metadata ... \u001b[?25l\u001b[?25hdone\n"
          ]
        }
      ]
    },
    {
      "cell_type": "code",
      "source": [
        "! wget https://artifacts.elastic.co/downloads/elasticsearch/elasticsearch-7.9.2-linux-x86_64.tar.gz -q\n",
        "! tar -xzf elasticsearch-7.9.2-linux-x86_64.tar.gz\n",
        "! chown -R daemon:daemon elasticsearch-7.9.2\n",
        "\n",
        "import os\n",
        "from subprocess import Popen, PIPE, STDOUT\n",
        "es_server = Popen(['elasticsearch-7.9.2/bin/elasticsearch'],\n",
        "                   stdout=PIPE, stderr=STDOUT,\n",
        "                   preexec_fn=lambda: os.setuid(1)  # as daemon\n",
        "                  )\n",
        "# wait until ES has started\n",
        "! sleep 30"
      ],
      "metadata": {
        "id": "ZCpfQ11fZG88"
      },
      "execution_count": 53,
      "outputs": []
    },
    {
      "cell_type": "code",
      "source": [
        "# Connect to Elasticsearch\n",
        "from haystack.document_stores import ElasticsearchDocumentStore\n",
        "document_store = ElasticsearchDocumentStore(host=\"localhost\", username=\"\", password=\"\", index=\"document\", return_embedding=True)"
      ],
      "metadata": {
        "id": "cUSWnPtLDoyn"
      },
      "execution_count": 54,
      "outputs": []
    },
    {
      "cell_type": "code",
      "source": [
        "for split, df in dfs.items():\n",
        "  # Exclude duplicate reviews\n",
        "  docs = [{\"text\": row[\"context\"], \n",
        "           \"meta\": {\"item_id\": row[\"title\"], \n",
        "                    \"question_id\": row[\"id\"], \n",
        "                    \"split\": split}\n",
        "           }\n",
        "          for _, row in df.drop_duplicates(subset=\"context\").iterrows()]\n",
        "  document_store.write_documents(docs)\n",
        "print(f\"Loaded {document_store.get_document_count()} documents\")"
      ],
      "metadata": {
        "colab": {
          "base_uri": "https://localhost:8080/",
          "height": 623
        },
        "id": "PSbU7OTjniQ1",
        "outputId": "633d3ee5-2c30-43f4-d7ea-9b0c9b850344"
      },
      "execution_count": 59,
      "outputs": [
        {
          "output_type": "error",
          "ename": "TypeError",
          "evalue": "ignored",
          "traceback": [
            "\u001b[0;31m---------------------------------------------------------------------------\u001b[0m",
            "\u001b[0;31mTypeError\u001b[0m                                 Traceback (most recent call last)",
            "\u001b[0;32m<ipython-input-59-7cc1238b3091>\u001b[0m in \u001b[0;36m<module>\u001b[0;34m()\u001b[0m\n\u001b[1;32m      7\u001b[0m            }\n\u001b[1;32m      8\u001b[0m           for _, row in df.drop_duplicates(subset=\"context\").iterrows()]\n\u001b[0;32m----> 9\u001b[0;31m   \u001b[0mdocument_store\u001b[0m\u001b[0;34m.\u001b[0m\u001b[0mwrite_documents\u001b[0m\u001b[0;34m(\u001b[0m\u001b[0mdocs\u001b[0m\u001b[0;34m)\u001b[0m\u001b[0;34m\u001b[0m\u001b[0;34m\u001b[0m\u001b[0m\n\u001b[0m\u001b[1;32m     10\u001b[0m \u001b[0mprint\u001b[0m\u001b[0;34m(\u001b[0m\u001b[0;34mf\"Loaded {document_store.get_document_count()} documents\"\u001b[0m\u001b[0;34m)\u001b[0m\u001b[0;34m\u001b[0m\u001b[0;34m\u001b[0m\u001b[0m\n",
            "\u001b[0;32m/usr/local/lib/python3.7/dist-packages/haystack/document_stores/elasticsearch.py\u001b[0m in \u001b[0;36mwrite_documents\u001b[0;34m(self, documents, index, batch_size, duplicate_documents, headers)\u001b[0m\n\u001b[1;32m    561\u001b[0m \u001b[0;34m\u001b[0m\u001b[0m\n\u001b[1;32m    562\u001b[0m         \u001b[0mfield_map\u001b[0m \u001b[0;34m=\u001b[0m \u001b[0mself\u001b[0m\u001b[0;34m.\u001b[0m\u001b[0m_create_document_field_map\u001b[0m\u001b[0;34m(\u001b[0m\u001b[0;34m)\u001b[0m\u001b[0;34m\u001b[0m\u001b[0;34m\u001b[0m\u001b[0m\n\u001b[0;32m--> 563\u001b[0;31m         \u001b[0mdocument_objects\u001b[0m \u001b[0;34m=\u001b[0m \u001b[0;34m[\u001b[0m\u001b[0mDocument\u001b[0m\u001b[0;34m.\u001b[0m\u001b[0mfrom_dict\u001b[0m\u001b[0;34m(\u001b[0m\u001b[0md\u001b[0m\u001b[0;34m,\u001b[0m \u001b[0mfield_map\u001b[0m\u001b[0;34m=\u001b[0m\u001b[0mfield_map\u001b[0m\u001b[0;34m)\u001b[0m \u001b[0;32mif\u001b[0m \u001b[0misinstance\u001b[0m\u001b[0;34m(\u001b[0m\u001b[0md\u001b[0m\u001b[0;34m,\u001b[0m \u001b[0mdict\u001b[0m\u001b[0;34m)\u001b[0m \u001b[0;32melse\u001b[0m \u001b[0md\u001b[0m \u001b[0;32mfor\u001b[0m \u001b[0md\u001b[0m \u001b[0;32min\u001b[0m \u001b[0mdocuments\u001b[0m\u001b[0;34m]\u001b[0m\u001b[0;34m\u001b[0m\u001b[0;34m\u001b[0m\u001b[0m\n\u001b[0m\u001b[1;32m    564\u001b[0m         document_objects = self._handle_duplicate_documents(\n\u001b[1;32m    565\u001b[0m             \u001b[0mdocuments\u001b[0m\u001b[0;34m=\u001b[0m\u001b[0mdocument_objects\u001b[0m\u001b[0;34m,\u001b[0m \u001b[0mindex\u001b[0m\u001b[0;34m=\u001b[0m\u001b[0mindex\u001b[0m\u001b[0;34m,\u001b[0m \u001b[0mduplicate_documents\u001b[0m\u001b[0;34m=\u001b[0m\u001b[0mduplicate_documents\u001b[0m\u001b[0;34m,\u001b[0m \u001b[0mheaders\u001b[0m\u001b[0;34m=\u001b[0m\u001b[0mheaders\u001b[0m\u001b[0;34m\u001b[0m\u001b[0;34m\u001b[0m\u001b[0m\n",
            "\u001b[0;32m/usr/local/lib/python3.7/dist-packages/haystack/document_stores/elasticsearch.py\u001b[0m in \u001b[0;36m<listcomp>\u001b[0;34m(.0)\u001b[0m\n\u001b[1;32m    561\u001b[0m \u001b[0;34m\u001b[0m\u001b[0m\n\u001b[1;32m    562\u001b[0m         \u001b[0mfield_map\u001b[0m \u001b[0;34m=\u001b[0m \u001b[0mself\u001b[0m\u001b[0;34m.\u001b[0m\u001b[0m_create_document_field_map\u001b[0m\u001b[0;34m(\u001b[0m\u001b[0;34m)\u001b[0m\u001b[0;34m\u001b[0m\u001b[0;34m\u001b[0m\u001b[0m\n\u001b[0;32m--> 563\u001b[0;31m         \u001b[0mdocument_objects\u001b[0m \u001b[0;34m=\u001b[0m \u001b[0;34m[\u001b[0m\u001b[0mDocument\u001b[0m\u001b[0;34m.\u001b[0m\u001b[0mfrom_dict\u001b[0m\u001b[0;34m(\u001b[0m\u001b[0md\u001b[0m\u001b[0;34m,\u001b[0m \u001b[0mfield_map\u001b[0m\u001b[0;34m=\u001b[0m\u001b[0mfield_map\u001b[0m\u001b[0;34m)\u001b[0m \u001b[0;32mif\u001b[0m \u001b[0misinstance\u001b[0m\u001b[0;34m(\u001b[0m\u001b[0md\u001b[0m\u001b[0;34m,\u001b[0m \u001b[0mdict\u001b[0m\u001b[0;34m)\u001b[0m \u001b[0;32melse\u001b[0m \u001b[0md\u001b[0m \u001b[0;32mfor\u001b[0m \u001b[0md\u001b[0m \u001b[0;32min\u001b[0m \u001b[0mdocuments\u001b[0m\u001b[0;34m]\u001b[0m\u001b[0;34m\u001b[0m\u001b[0;34m\u001b[0m\u001b[0m\n\u001b[0m\u001b[1;32m    564\u001b[0m         document_objects = self._handle_duplicate_documents(\n\u001b[1;32m    565\u001b[0m             \u001b[0mdocuments\u001b[0m\u001b[0;34m=\u001b[0m\u001b[0mdocument_objects\u001b[0m\u001b[0;34m,\u001b[0m \u001b[0mindex\u001b[0m\u001b[0;34m=\u001b[0m\u001b[0mindex\u001b[0m\u001b[0;34m,\u001b[0m \u001b[0mduplicate_documents\u001b[0m\u001b[0;34m=\u001b[0m\u001b[0mduplicate_documents\u001b[0m\u001b[0;34m,\u001b[0m \u001b[0mheaders\u001b[0m\u001b[0;34m=\u001b[0m\u001b[0mheaders\u001b[0m\u001b[0;34m\u001b[0m\u001b[0;34m\u001b[0m\u001b[0m\n",
            "\u001b[0;32m/usr/local/lib/python3.7/dist-packages/haystack/schema.py\u001b[0m in \u001b[0;36mfrom_dict\u001b[0;34m(cls, dict, field_map, id_hash_keys)\u001b[0m\n\u001b[1;32m    198\u001b[0m             \u001b[0m_new_doc\u001b[0m\u001b[0;34m[\u001b[0m\u001b[0;34m\"content\"\u001b[0m\u001b[0;34m]\u001b[0m \u001b[0;34m=\u001b[0m \u001b[0mpd\u001b[0m\u001b[0;34m.\u001b[0m\u001b[0mDataFrame\u001b[0m\u001b[0;34m(\u001b[0m\u001b[0mcolumns\u001b[0m\u001b[0;34m=\u001b[0m\u001b[0m_new_doc\u001b[0m\u001b[0;34m[\u001b[0m\u001b[0;34m\"content\"\u001b[0m\u001b[0;34m]\u001b[0m\u001b[0;34m[\u001b[0m\u001b[0;36m0\u001b[0m\u001b[0;34m]\u001b[0m\u001b[0;34m,\u001b[0m \u001b[0mdata\u001b[0m\u001b[0;34m=\u001b[0m\u001b[0m_new_doc\u001b[0m\u001b[0;34m[\u001b[0m\u001b[0;34m\"content\"\u001b[0m\u001b[0;34m]\u001b[0m\u001b[0;34m[\u001b[0m\u001b[0;36m1\u001b[0m\u001b[0;34m:\u001b[0m\u001b[0;34m]\u001b[0m\u001b[0;34m)\u001b[0m\u001b[0;34m\u001b[0m\u001b[0;34m\u001b[0m\u001b[0m\n\u001b[1;32m    199\u001b[0m \u001b[0;34m\u001b[0m\u001b[0m\n\u001b[0;32m--> 200\u001b[0;31m         \u001b[0;32mreturn\u001b[0m \u001b[0mcls\u001b[0m\u001b[0;34m(\u001b[0m\u001b[0;34m**\u001b[0m\u001b[0m_new_doc\u001b[0m\u001b[0;34m)\u001b[0m\u001b[0;34m\u001b[0m\u001b[0;34m\u001b[0m\u001b[0m\n\u001b[0m\u001b[1;32m    201\u001b[0m \u001b[0;34m\u001b[0m\u001b[0m\n\u001b[1;32m    202\u001b[0m     \u001b[0;32mdef\u001b[0m \u001b[0mto_json\u001b[0m\u001b[0;34m(\u001b[0m\u001b[0mself\u001b[0m\u001b[0;34m,\u001b[0m \u001b[0mfield_map\u001b[0m\u001b[0;34m=\u001b[0m\u001b[0;34m{\u001b[0m\u001b[0;34m}\u001b[0m\u001b[0;34m)\u001b[0m \u001b[0;34m->\u001b[0m \u001b[0mstr\u001b[0m\u001b[0;34m:\u001b[0m\u001b[0;34m\u001b[0m\u001b[0;34m\u001b[0m\u001b[0m\n",
            "\u001b[0;31mTypeError\u001b[0m: __init__() missing 1 required positional argument: 'content'"
          ]
        }
      ]
    },
    {
      "cell_type": "code",
      "source": [
        ""
      ],
      "metadata": {
        "id": "RCZtEN73ovkz"
      },
      "execution_count": null,
      "outputs": []
    }
  ]
}